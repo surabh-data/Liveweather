{
 "cells": [
  {
   "cell_type": "raw",
   "id": "1f4c829b-6c74-45aa-8660-02c46a650109",
   "metadata": {},
   "source": [
    "Lets go for a ride? But what's the status outside?\n",
    "\n",
    "\"On a Holiday, you want to know the climatic conditions of the place you wish to visit.\n",
    "Here is a solution to get the update and live reports of the weather\"\n",
    "\n",
    "Project : Weather Report !! (For your particular destination city)\n"
   ]
  },
  {
   "cell_type": "raw",
   "id": "b5fe48a7-9fa6-4901-8ef7-56767ffe85e1",
   "metadata": {},
   "source": [
    "$ Required Modules (Use case can be seen in code)\n",
    "For live weather reports:\n",
    "                          requests\n",
    "                          get method\n",
    "                          using API\n",
    "                          \n",
    "For live data in a dictionary data type:\n",
    "                          json\n",
    "                          \n",
    "For weather report in audio:\n",
    "         For Windows User\n",
    "                          Win32com.client (Use case can be seen in code)\n",
    "                          dispatch method\n",
    "                          Speak method\n",
    "                          \n",
    "         For Mac user:\n",
    "                          os\n",
    "                          system method : {syntax:  os.system(\"say'text'\")} \n",
    "                          (text - type anything which you wish to get in audio)\n"
   ]
  },
  {
   "cell_type": "code",
   "execution_count": 2,
   "id": "a621263c-9791-4f2a-9632-146237d7147c",
   "metadata": {
    "tags": []
   },
   "outputs": [],
   "source": [
    "#modules:\n",
    "import win32com.client as wincom                                  # For getting speech (voice) from the text #(pip install Pywin 32)\n",
    "import requests                                                   # Get the network link activated for downloading data\n",
    "import json                                                       # To read the data in a dictionary format"
   ]
  },
  {
   "cell_type": "raw",
   "id": "822f5171-60de-424d-9f7b-7f5268cd2992",
   "metadata": {},
   "source": [
    "$ Code in Action:\n",
    "You can type any city in the world and fetch it's live weather reports.\n",
    "For Eg: Noida (India)\n",
    "$ Check the overall data retrieved form the web address.\n",
    "$ Use your API key from the source mentioned. It's easy to use and free to get for maximum 14days."
   ]
  },
  {
   "cell_type": "code",
   "execution_count": 7,
   "id": "43618aea-8184-48b5-b110-98cf99159cc8",
   "metadata": {
    "tags": []
   },
   "outputs": [
    {
     "name": "stdout",
     "output_type": "stream",
     "text": [
      "Enter the city for live Weather reports:  Noida\n"
     ]
    },
    {
     "data": {
      "text/plain": [
       "'{\"location\":{\"name\":\"Noida\",\"region\":\"Uttar Pradesh\",\"country\":\"India\",\"lat\":28.57,\"lon\":77.32,\"tz_id\":\"Asia/Kolkata\",\"localtime_epoch\":1692852144,\"localtime\":\"2023-08-24 10:12\"},\"current\":{\"last_updated_epoch\":1692851400,\"last_updated\":\"2023-08-24 10:00\",\"temp_c\":29.0,\"temp_f\":84.2,\"is_day\":1,\"condition\":{\"text\":\"Mist\",\"icon\":\"//cdn.weatherapi.com/weather/64x64/day/143.png\",\"code\":1030},\"wind_mph\":9.4,\"wind_kph\":15.1,\"wind_degree\":250,\"wind_dir\":\"WSW\",\"pressure_mb\":1002.0,\"pressure_in\":29.59,\"precip_mm\":0.0,\"precip_in\":0.0,\"humidity\":75,\"cloud\":50,\"feelslike_c\":30.3,\"feelslike_f\":86.5,\"vis_km\":4.0,\"vis_miles\":2.0,\"uv\":8.0,\"gust_mph\":7.2,\"gust_kph\":11.5}}'"
      ]
     },
     "execution_count": 7,
     "metadata": {},
     "output_type": "execute_result"
    }
   ],
   "source": [
    "#action:\n",
    "\n",
    "speak = wincom.Dispatch(\"SAPI.SpVoice\")\n",
    "city = input(\"Enter the city for live Weather reports: \")         # Input from the user to collect data live from site\n",
    "                                                                  # Setting the url to a variable for accessing\n",
    "my_url = f\"http://api.weatherapi.com/v1/current.json?key=2c67a0783cfa48b9b4b100126232008&q={city}\"\n",
    "                                                                  # Recommended : Use your API Key (Reference source api.weatherapi.com)\n",
    "data = requests.get(my_url)                                       # Using module to get data using API\n",
    "data.text"
   ]
  },
  {
   "cell_type": "raw",
   "id": "6538c0ac-0408-4717-a99f-1c9e0d80d619",
   "metadata": {},
   "source": [
    "$ Using Json Module to get the file in machine readable format or dictionary format for easy access.\n",
    "$ Getting the Parameters in a variable"
   ]
  },
  {
   "cell_type": "code",
   "execution_count": 9,
   "id": "c36fde15-cae1-4d89-a109-b3e9281e7536",
   "metadata": {
    "tags": []
   },
   "outputs": [],
   "source": [
    "wdic= json.loads(data.text)                                       # Converting string to json (Dictionary type data) (machine readable)\n",
    "\n",
    "                                                                  # Fetching Parameters for your requirement\n",
    "state = wdic[\"location\"][\"region\"]\n",
    "country = wdic[\"location\"][\"country\"]\n",
    "time= wdic[\"current\"][\"last_updated\"]\n",
    "atm = wdic[\"current\"][\"condition\"][\"text\"]\n",
    "wind = wdic[\"current\"][\"wind_kph\"]\n",
    "temp = wdic[\"current\"][\"temp_c\"]"
   ]
  },
  {
   "cell_type": "raw",
   "id": "c33fee65-6e7e-4cff-adda-57ff1f3e0c61",
   "metadata": {},
   "source": [
    "Output"
   ]
  },
  {
   "cell_type": "code",
   "execution_count": 10,
   "id": "2478c734-0dbd-4008-80f1-66d90358a8ac",
   "metadata": {
    "tags": []
   },
   "outputs": [
    {
     "name": "stdout",
     "output_type": "stream",
     "text": [
      " The State of your Noida is : Uttar Pradesh and Country is  India.\n",
      " The temperature is 29.0degree Celsius.\n",
      " The atmosphere there is Mist.\n",
      " The wind speed is 15.1 kilometer per hour\n",
      " This data is last updated at 2023-08-24 10:00\n"
     ]
    },
    {
     "data": {
      "text/plain": [
       "1"
      ]
     },
     "execution_count": 10,
     "metadata": {},
     "output_type": "execute_result"
    }
   ],
   "source": [
    "data_say= (f\" The State of your {city} is : {state} and Country is  {country}.\" \\\n",
    "           f\"\\n The temperature is {temp}degree Celsius.\\n The atmosphere there is {atm}.\\n The wind speed is {wind} kilometer per hour\" \\\n",
    "           f\"\\n This data is last updated at {time}\")\n",
    "\n",
    "print(data_say)                                                   # output text\n",
    "speak.Speak(data_say)                                             # output text to speech\n"
   ]
  },
  {
   "cell_type": "raw",
   "id": "8c2d2fe8-890a-4217-8291-8efe87a3b38f",
   "metadata": {},
   "source": [
    "Complete Sequence:"
   ]
  },
  {
   "cell_type": "code",
   "execution_count": null,
   "id": "0a5a5f69-a42e-4fb3-903d-309e36884fed",
   "metadata": {
    "tags": []
   },
   "outputs": [],
   "source": [
    "#modules:\n",
    "import win32com.client as wincom                                  # For getting speech (voice) from the text #(pip install Pywin 32)\n",
    "import requests                                                   # Get the network link activated for downloading data\n",
    "import json                                                       # To read the data in a dictionary format\n",
    "\n",
    "speak = wincom.Dispatch(\"SAPI.SpVoice\")\n",
    "city = input(\"Enter the city for live Weather reports: \")         # Input from the user to collect data live from site\n",
    "                                                                  # Setting the url to a variable for accessing\n",
    "my_url = f\"http://api.weatherapi.com/v1/current.json?key=2c67a0783cfa48b9b4b100126232008&q={city}\"\n",
    "                                                                  \n",
    "data = requests.get(my_url)                                       # Using module to get data using API\n",
    "\n",
    "# print(data.text)\n",
    "\n",
    "wdic= json.loads(data.text)                                       # Converting string to json (Dictionary type data) (machine readable)\n",
    "\n",
    "                                                                  # Parameters required\n",
    "state = wdic[\"location\"][\"region\"]\n",
    "country = wdic[\"location\"][\"country\"]\n",
    "time= wdic[\"current\"][\"last_updated\"]\n",
    "atm = wdic[\"current\"][\"condition\"][\"text\"]\n",
    "wind = wdic[\"current\"][\"wind_kph\"]\n",
    "temp = wdic[\"current\"][\"temp_c\"]\n",
    "\n",
    "data_say= (f\" The State of your {city} is : {state} and Country is  {country}.\" \\\n",
    "           f\"\\n The temperature is {temp}degree Celsius.\\n The atmosphere there is {atm}.\\n The wind speed is {wind} kilometer per hour\" \\\n",
    "           f\"\\n This data is last updated at {time}\")\n",
    "\n",
    "print(data_say)                                                   # output text\n",
    "speak.Speak(data_say)                                             # output text to speech"
   ]
  },
  {
   "cell_type": "code",
   "execution_count": null,
   "id": "9b9669e8-ebfc-4365-b5a6-03315c90f3ab",
   "metadata": {},
   "outputs": [],
   "source": []
  }
 ],
 "metadata": {
  "kernelspec": {
   "display_name": "Python 3 (ipykernel)",
   "language": "python",
   "name": "python3"
  },
  "language_info": {
   "codemirror_mode": {
    "name": "ipython",
    "version": 3
   },
   "file_extension": ".py",
   "mimetype": "text/x-python",
   "name": "python",
   "nbconvert_exporter": "python",
   "pygments_lexer": "ipython3",
   "version": "3.11.4"
  }
 },
 "nbformat": 4,
 "nbformat_minor": 5
}
